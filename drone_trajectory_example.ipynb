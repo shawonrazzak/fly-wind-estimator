{
 "cells": [
  {
   "cell_type": "code",
   "execution_count": 237,
   "id": "initial_id",
   "metadata": {
    "ExecuteTime": {
     "end_time": "2025-07-03T23:03:01.479819Z",
     "start_time": "2025-07-03T23:03:01.079673Z"
    }
   },
   "outputs": [
    {
     "name": "stdout",
     "output_type": "stream",
     "text": [
      "The autoreload extension is already loaded. To reload it, use:\n",
      "  %reload_ext autoreload\n"
     ]
    }
   ],
   "source": [
    "%reset -f\n",
    "%load_ext autoreload\n",
    "%autoreload 2\n",
    "\n",
    "import numpy as np\n",
    "import pandas as pd\n",
    "import matplotlib.pyplot as plt\n",
    "from drone_model import DroneSimulator"
   ]
  },
  {
   "cell_type": "markdown",
   "id": "ed7918f488f77935",
   "metadata": {},
   "source": [
    "# Set the trajectory\n"
   ]
  },
  {
   "cell_type": "code",
   "execution_count": 238,
   "id": "42a5ed7043dae4bf",
   "metadata": {
    "ExecuteTime": {
     "end_time": "2025-07-03T23:03:01.627663Z",
     "start_time": "2025-07-03T23:03:01.543289Z"
    }
   },
   "outputs": [],
   "source": [
    "# Time\n",
    "dt = 0.1\n",
    "fs = 1 / dt\n",
    "T = 8.0\n",
    "tsim = np.arange(0, T + dt/2, step=dt)"
   ]
  },
  {
   "cell_type": "code",
   "execution_count": 239,
   "id": "22b3997c1ac658d1",
   "metadata": {
    "ExecuteTime": {
     "end_time": "2025-07-03T23:03:01.866486Z",
     "start_time": "2025-07-03T23:03:01.700972Z"
    }
   },
   "outputs": [],
   "source": [
    "# Time setup\n",
    "dt = 0.1\n",
    "T = 5.0\n",
    "tsim = np.arange(0, T + dt/2, step=dt)\n",
    "\n",
    "# Wind and Altitude\n",
    "w = 4.1 * np.ones_like(tsim)                     # ambient wind speed\n",
    "zeta = np.deg2rad(290) * np.ones_like(tsim)      # wind from WNW\n",
    "z = 2.0 * np.ones_like(tsim)                     # constant altitude\n",
    "\n",
    "# Speed: fast → drop during fake → sharp burst\n",
    "g = 2.8 * np.ones_like(tsim)\n",
    "i1 = int(2.0 / dt)\n",
    "i2 = int(2.7 / dt)\n",
    "i3 = int(3.3 / dt)\n",
    "g[i1:i2] = 1.2                                    # deceleration during fake\n",
    "g[i2:i3] = np.linspace(1.2, 3.2, i3 - i2)         # re-acceleration\n",
    "g[i3:] = 3.0\n",
    "\n",
    "# Path direction (psi_global)\n",
    "psi_global = np.zeros_like(tsim)\n",
    "\n",
    "# Phase 1: straight\n",
    "psi_global[:i1] = np.deg2rad(0)\n",
    "\n",
    "# Phase 2: initiate sharp left turn (fakeout)\n",
    "psi_global[i1:i2] = np.linspace(np.deg2rad(0), np.deg2rad(135), i2 - i1)\n",
    "\n",
    "# Phase 3: snap back in opposite direction\n",
    "psi_global[i2:i3] = np.linspace(np.deg2rad(135), np.deg2rad(-60), i3 - i2)\n",
    "\n",
    "# Phase 4: hold new direction (weird final angle)\n",
    "psi_global[i3:] = np.deg2rad(-60)\n",
    "\n",
    "# Heading: mostly follows path, but lags during fake/recovery\n",
    "psi = np.copy(psi_global)\n",
    "lag_offset = np.deg2rad(12)\n",
    "psi[i1:i2] = psi_global[i1:i2] - lag_offset       # during fakeout\n",
    "psi[i2:i3] = psi_global[i2:i3] - lag_offset       # during recovery\n",
    "\n",
    "# Global frame x-y velocities\n",
    "v_x_global = g * np.cos(psi_global)\n",
    "v_y_global = g * np.sin(psi_global)\n",
    "\n",
    "# Body-level frame x-y velocities (relative to heading)\n",
    "v_x = v_x_global * np.cos(psi) + v_y_global * np.sin(psi)\n",
    "v_y = -v_x_global * np.sin(psi) + v_y_global * np.cos(psi)\n"
   ]
  },
  {
   "cell_type": "markdown",
   "id": "91f0bfc94348264",
   "metadata": {},
   "source": [
    "# Simulate trajectory\n"
   ]
  },
  {
   "cell_type": "code",
   "execution_count": 240,
   "id": "e41824626baaf984",
   "metadata": {
    "ExecuteTime": {
     "end_time": "2025-07-03T23:03:02.063512Z",
     "start_time": "2025-07-03T23:03:01.930965Z"
    }
   },
   "outputs": [],
   "source": [
    "mpc_horizon = 10\n",
    "mpc_control_penalty = 1e-2"
   ]
  },
  {
   "cell_type": "code",
   "execution_count": 241,
   "id": "c87fcc05164aba4f",
   "metadata": {
    "ExecuteTime": {
     "end_time": "2025-07-03T23:03:02.270840Z",
     "start_time": "2025-07-03T23:03:02.112001Z"
    }
   },
   "outputs": [
    {
     "name": "stdout",
     "output_type": "stream",
     "text": [
      "dict_keys(['g', 'm', 'M', 'Mm', 'L', 'R', 'I_x', 'I_y', 'I_z', 'b', 'd', 'C'])\n"
     ]
    }
   ],
   "source": [
    "# Create simulator\n",
    "simulator = DroneSimulator(dt=dt, mpc_horizon=mpc_horizon, r_u=mpc_control_penalty)\n",
    "\n",
    "# Change parameters\n",
    "print(simulator.params.__dict__.keys())\n",
    "simulator.params.Mm = 2.0  # example change the mass"
   ]
  },
  {
   "cell_type": "code",
   "execution_count": 242,
   "id": "288e1918034edcc4",
   "metadata": {
    "ExecuteTime": {
     "end_time": "2025-07-03T23:03:05.761576Z",
     "start_time": "2025-07-03T23:03:02.343210Z"
    }
   },
   "outputs": [
    {
     "name": "stdout",
     "output_type": "stream",
     "text": [
      "Done.\n"
     ]
    }
   ],
   "source": [
    "# Update the setpoints\n",
    "simulator.update_setpoint(v_x=v_x, v_y=v_y, psi=psi, z=z, w=w, zeta=zeta)\n",
    "\n",
    "# Run\n",
    "t_sim, x_sim, u_sim, y_sim = simulator.simulate(x0=None, mpc=True, return_full_output=True)\n",
    "sim_data = pd.DataFrame(y_sim)\n",
    "sim_data.insert(0, 'time', t_sim)\n",
    "print('Done.')"
   ]
  },
  {
   "cell_type": "code",
   "execution_count": 243,
   "id": "fc678a91de473fd7",
   "metadata": {
    "ExecuteTime": {
     "end_time": "2025-07-03T23:03:06.329037Z",
     "start_time": "2025-07-03T23:03:06.167581Z"
    }
   },
   "outputs": [
    {
     "data": {
      "image/png": "[encoded data removed]",
      "text/plain": [
       "<Figure size 600x600 with 1 Axes>"
      ]
     },
     "metadata": {},
     "output_type": "display_data"
    }
   ],
   "source": [
    "simulator.plot_trajectory(size_radius=0.3)"
   ]
  },
  {
   "cell_type": "code",
   "execution_count": 244,
   "id": "be86abd6",
   "metadata": {},
   "outputs": [],
   "source": [
    "sim_data.to_csv(\"traj13.csv\", index=False)\n",
    "\n"
   ]
  }
 ],
 "metadata": {
  "kernelspec": {
   "display_name": ".venv",
   "language": "python",
   "name": "python3"
  },
  "language_info": {
   "codemirror_mode": {
    "name": "ipython",
    "version": 3
   },
   "file_extension": ".py",
   "mimetype": "text/x-python",
   "name": "python",
   "nbconvert_exporter": "python",
   "pygments_lexer": "ipython3",
   "version": "3.10.12"
  }
 },
 "nbformat": 4,
 "nbformat_minor": 5
}
