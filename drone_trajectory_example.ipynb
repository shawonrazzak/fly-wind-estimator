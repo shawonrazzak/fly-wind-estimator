{
 "cells": [
  {
   "cell_type": "code",
   "execution_count": 61,
   "id": "initial_id",
   "metadata": {
    "ExecuteTime": {
     "end_time": "2025-07-03T23:03:01.479819Z",
     "start_time": "2025-07-03T23:03:01.079673Z"
    }
   },
   "outputs": [
    {
     "name": "stdout",
     "output_type": "stream",
     "text": [
      "The autoreload extension is already loaded. To reload it, use:\n",
      "  %reload_ext autoreload\n"
     ]
    }
   ],
   "source": [
    "%reset -f\n",
    "%load_ext autoreload\n",
    "%autoreload 2\n",
    "\n",
    "import numpy as np\n",
    "import pandas as pd\n",
    "import matplotlib.pyplot as plt\n",
    "from drone_model import DroneSimulator"
   ]
  },
  {
   "cell_type": "markdown",
   "id": "ed7918f488f77935",
   "metadata": {},
   "source": [
    "# Set the trajectory\n"
   ]
  },
  {
   "cell_type": "code",
   "execution_count": 62,
   "id": "42a5ed7043dae4bf",
   "metadata": {
    "ExecuteTime": {
     "end_time": "2025-07-03T23:03:01.627663Z",
     "start_time": "2025-07-03T23:03:01.543289Z"
    }
   },
   "outputs": [],
   "source": [
    "# Time\n",
    "dt = 0.1\n",
    "fs = 1 / dt\n",
    "T = 8.0\n",
    "tsim = np.arange(0, T + dt/2, step=dt)"
   ]
  },
  {
   "cell_type": "code",
   "execution_count": 63,
   "id": "22b3997c1ac658d1",
   "metadata": {
    "ExecuteTime": {
     "end_time": "2025-07-03T23:03:01.866486Z",
     "start_time": "2025-07-03T23:03:01.700972Z"
    }
   },
   "outputs": [],
   "source": [
    "# Ambient wind speed & direction\n",
    "w = 7.0 * np.ones_like(tsim)  # ambient wind speed magnitude\n",
    "zeta = np.deg2rad(40.4) * np.ones_like(tsim)  # ambient wind direction\n",
    "\n",
    "# Altitude\n",
    "z = 2.0 * np.ones_like(tsim)  # altitude\n",
    "\n",
    "# Velocity magnitude and direction\n",
    "g = 2.0 * np.ones_like(tsim)\n",
    "psi_global = np.deg2rad(90) * np.ones_like(tsim)  # start at 90°\n",
    "\n",
    "\n",
    "# Index markers for time transitions\n",
    "i1 = int(2.0 / dt)   # 2s -> switch to 30°\n",
    "i2 = int(4.0 / dt)   # 4s -> start curve to 180°\n",
    "i3 = int(5.2 / dt)   # 5.2s -> finish curve at 180°\n",
    "\n",
    "\n",
    "# Step 2: After 2s, go to 30°\n",
    "psi_global[i1:i2] = np.deg2rad(30)\n",
    "\n",
    "\n",
    "# Step 3: Smooth curve from 30° to 180° over 1.2s\n",
    "psi_global[i2:i3] = np.linspace(np.deg2rad(30), np.deg2rad(180), i3 - i2)\n",
    "\n",
    "\n",
    "# Step 4: Hold 180° after 5.2s\n",
    "psi_global[i3:] = np.deg2rad(180)\n",
    "\n",
    "\n",
    "\n",
    "\n",
    "# Global frame x-y velocities\n",
    "v_x_global = g * np.cos(psi_global)\n",
    "v_y_global = g * np.sin(psi_global)\n",
    "\n",
    "# Heading\n",
    "psi = psi_global\n",
    "#psi = psi_global[0] + (2*2*np.pi/T)*tsim\n",
    "#psi = (np.pi/4) * np.ones_like(tsim)\n",
    "#psi[30:] = psi[30] + np.pi/2\n",
    "\n",
    "# Body-level frame x-y velocities\n",
    "v_x = v_x_global * np.cos(psi) + v_y_global * np.sin(psi)\n",
    "v_y = -v_x_global * np.sin(psi) + v_y_global * np.cos(psi)"
   ]
  },
  {
   "cell_type": "markdown",
   "id": "91f0bfc94348264",
   "metadata": {},
   "source": [
    "# Simulate trajectory\n"
   ]
  },
  {
   "cell_type": "code",
   "execution_count": 64,
   "id": "e41824626baaf984",
   "metadata": {
    "ExecuteTime": {
     "end_time": "2025-07-03T23:03:02.063512Z",
     "start_time": "2025-07-03T23:03:01.930965Z"
    }
   },
   "outputs": [],
   "source": [
    "mpc_horizon = 10\n",
    "mpc_control_penalty = 1e-2"
   ]
  },
  {
   "cell_type": "code",
   "execution_count": 65,
   "id": "c87fcc05164aba4f",
   "metadata": {
    "ExecuteTime": {
     "end_time": "2025-07-03T23:03:02.270840Z",
     "start_time": "2025-07-03T23:03:02.112001Z"
    }
   },
   "outputs": [
    {
     "name": "stdout",
     "output_type": "stream",
     "text": [
      "dict_keys(['g', 'm', 'M', 'Mm', 'L', 'R', 'I_x', 'I_y', 'I_z', 'b', 'd', 'C'])\n"
     ]
    }
   ],
   "source": [
    "# Create simulator\n",
    "simulator = DroneSimulator(dt=dt, mpc_horizon=mpc_horizon, r_u=mpc_control_penalty)\n",
    "\n",
    "# Change parameters\n",
    "print(simulator.params.__dict__.keys())\n",
    "simulator.params.Mm = 2.0  # example change the mass"
   ]
  },
  {
   "cell_type": "code",
   "execution_count": 66,
   "id": "288e1918034edcc4",
   "metadata": {
    "ExecuteTime": {
     "end_time": "2025-07-03T23:03:05.761576Z",
     "start_time": "2025-07-03T23:03:02.343210Z"
    }
   },
   "outputs": [
    {
     "name": "stdout",
     "output_type": "stream",
     "text": [
      "Done.\n"
     ]
    }
   ],
   "source": [
    "# Update the setpoints\n",
    "simulator.update_setpoint(v_x=v_x, v_y=v_y, psi=psi, z=z, w=w, zeta=zeta)\n",
    "\n",
    "# Run\n",
    "t_sim, x_sim, u_sim, y_sim = simulator.simulate(x0=None, mpc=True, return_full_output=True)\n",
    "sim_data = pd.DataFrame(y_sim)\n",
    "sim_data.insert(0, 'time', t_sim)\n",
    "print('Done.')"
   ]
  },
  {
   "cell_type": "code",
   "execution_count": 67,
   "id": "fc678a91de473fd7",
   "metadata": {
    "ExecuteTime": {
     "end_time": "2025-07-03T23:03:06.329037Z",
     "start_time": "2025-07-03T23:03:06.167581Z"
    }
   },
   "outputs": [
    {
     "data": {
      "image/png": "[encoded data removed]",
      "text/plain": [
       "<Figure size 600x600 with 1 Axes>"
      ]
     },
     "metadata": {},
     "output_type": "display_data"
    }
   ],
   "source": [
    "simulator.plot_trajectory(size_radius=0.8)"
   ]
  },
  {
   "cell_type": "code",
   "execution_count": 68,
   "id": "be86abd6",
   "metadata": {},
   "outputs": [],
   "source": [
    "sim_data.to_csv(\"mirrorgames.csv\", index=False)\n",
    "\n"
   ]
  }
 ],
 "metadata": {
  "kernelspec": {
   "display_name": "Python 3",
   "language": "python",
   "name": "python3"
  },
  "language_info": {
   "codemirror_mode": {
    "name": "ipython",
    "version": 3
   },
   "file_extension": ".py",
   "mimetype": "text/x-python",
   "name": "python",
   "nbconvert_exporter": "python",
   "pygments_lexer": "ipython3",
   "version": "3.11.9"
  }
 },
 "nbformat": 4,
 "nbformat_minor": 5
}
